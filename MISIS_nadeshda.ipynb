{
  "cells": [
    {
      "cell_type": "code",
      "execution_count": null,
      "metadata": {
        "id": "d3448218"
      },
      "outputs": [],
      "source": [
        "import pandas as pd\n",
        "import numpy as np\n",
        "import matplotlib.pyplot as plt\n",
        "import seaborn as sns\n",
        "\n",
        "from tqdm import tqdm\n",
        "from glob import glob\n",
        "import torch\n",
        "import torch.nn as nn\n",
        "from torch.utils.data import Dataset, DataLoader\n",
        "from torch.nn import Transformer\n",
        "import torch.nn.utils.rnn as rnn_utils\n",
        "import torch.nn.functional as F\n",
        "\n",
        "import scipy\n",
        "\n",
        "from datetime import datetime\n",
        "from sklearn.model_selection import KFold\n",
        "import random\n",
        "\n",
        "import tarfile\n",
        "import os"
      ],
      "id": "d3448218"
    },
    {
      "cell_type": "markdown",
      "source": [
        "## Uploading a dataset"
      ],
      "metadata": {
        "id": "5fI0Ggb-Ve4Y"
      },
      "id": "5fI0Ggb-Ve4Y"
    },
    {
      "cell_type": "code",
      "source": [
        "now = datetime.now().strftime(\"%Y-%m-%d %H:%M:%S\")\n",
        "mod1, mod2, mod3, mod4 = 4, 5, 6, 7"
      ],
      "metadata": {
        "id": "oqUc0u8Foe3f"
      },
      "id": "oqUc0u8Foe3f",
      "execution_count": null,
      "outputs": []
    },
    {
      "cell_type": "code",
      "execution_count": null,
      "metadata": {
        "id": "v2Rs0AJxPszT"
      },
      "outputs": [],
      "source": [
        "def seed_everything(seed):\n",
        "    np.random.seed(seed)\n",
        "    torch.manual_seed(seed)\n",
        "    torch.cuda.manual_seed(seed)\n",
        "    torch.backends.cudnn.deterministic = True"
      ],
      "id": "v2Rs0AJxPszT"
    },
    {
      "cell_type": "code",
      "source": [
        "from google.colab import drive\n",
        "drive.mount('/content/drive')"
      ],
      "metadata": {
        "colab": {
          "base_uri": "https://localhost:8080/"
        },
        "id": "5c4qv0KzEwHl",
        "outputId": "edcd7e7d-de3f-42ca-b5d9-965ec459bbf3"
      },
      "id": "5c4qv0KzEwHl",
      "execution_count": null,
      "outputs": [
        {
          "output_type": "stream",
          "name": "stdout",
          "text": [
            "Mounted at /content/drive\n"
          ]
        }
      ]
    },
    {
      "cell_type": "code",
      "execution_count": null,
      "metadata": {
        "id": "436a318c"
      },
      "outputs": [],
      "source": [
        "CUDA_DEV = 0\n",
        "NUM_TAGS = 256"
      ],
      "id": "436a318c"
    },
    {
      "cell_type": "code",
      "execution_count": null,
      "metadata": {
        "id": "5efaadd8"
      },
      "outputs": [],
      "source": [
        "link = '/content/drive/MyDrive/Yandex_cup/'\n",
        "df_train = pd.read_csv(link+'train.csv')\n",
        "df_test = pd.read_csv(link+'test.csv')"
      ],
      "id": "5efaadd8"
    },
    {
      "cell_type": "code",
      "execution_count": null,
      "metadata": {
        "id": "8JLjDCrCn777"
      },
      "outputs": [],
      "source": [
        "# Путь к архиву\n",
        "archive_path = link + 'track_embeddings.tar.gz'\n",
        "\n",
        "# Распаковываем архив\n",
        "with tarfile.open(archive_path, 'r:gz') as tar:\n",
        "    tar.extractall('/content/track_embeddings')\n",
        "\n",
        "# Теперь обрабатываем файлы\n",
        "track_idx2embeds = {}\n",
        "for fn in tqdm(glob('/content/track_embeddings/*')):\n",
        "    track_idx = int(os.path.basename(fn).split('.')[0])\n",
        "    embeds = np.load(fn)\n",
        "    embeds = torch.from_numpy(embeds).to('cuda')\n",
        "    track_idx2embeds[track_idx] = embeds"
      ],
      "id": "8JLjDCrCn777"
    },
    {
      "cell_type": "markdown",
      "metadata": {
        "id": "uEUVRjEaVXuM"
      },
      "source": [
        "## feature engineering"
      ],
      "id": "uEUVRjEaVXuM"
    },
    {
      "cell_type": "markdown",
      "source": [
        "Были добавлены:\n",
        "- min\n",
        "- max\n",
        "- дисперсия\n",
        "- стандартное отклонение\n",
        "- корреляция / разница\n",
        "\n",
        "Между строками, для каждого объекта"
      ],
      "metadata": {
        "id": "wKNYuWAiWcer"
      },
      "id": "wKNYuWAiWcer"
    },
    {
      "cell_type": "code",
      "execution_count": null,
      "metadata": {
        "id": "ZM60pP6_Rp1K"
      },
      "outputs": [],
      "source": [
        "def make_more_emb(data):\n",
        "  # 404 - макс длина песни\n",
        "  # data = track_idx2embeds[track_idx]\n",
        "  data = data.to(\"cpu:0\")\n",
        "  data = data.mean(dim=1)\n",
        "  kol = torch.tensor(data.shape[0], dtype=torch.int64).unsqueeze(0)\n",
        "  min_ = torch.tensor(data.min(), dtype=data.dtype).unsqueeze(0)\n",
        "  max_ = torch.tensor(data.max(), dtype=data.dtype).unsqueeze(0)\n",
        "  var = torch.tensor(data.var(), dtype=data.dtype).unsqueeze(0)\n",
        "  std = torch.tensor(data.std(), dtype=data.dtype).unsqueeze(0)\n",
        "  new_array = torch.zeros(404, dtype=data.dtype)\n",
        "  new_array[:kol[0]] = data\n",
        "  diff = torch.diff(new_array)\n",
        "  new_array = torch.zeros(768-408, dtype=data.dtype)\n",
        "\n",
        "  return torch.cat((kol, min_, max_, var, std, diff, new_array))"
      ],
      "id": "ZM60pP6_Rp1K"
    },
    {
      "cell_type": "code",
      "execution_count": null,
      "metadata": {
        "id": "lIf-V-fSRqn3",
        "colab": {
          "base_uri": "https://localhost:8080/"
        },
        "outputId": "9ec2bf33-e77e-4ae8-da20-73d81dfb559b"
      },
      "outputs": [
        {
          "output_type": "stream",
          "name": "stderr",
          "text": [
            "  0%|          | 0/76714 [00:00<?, ?it/s]<ipython-input-16-49c48ecf6b20>:7: UserWarning: To copy construct from a tensor, it is recommended to use sourceTensor.clone().detach() or sourceTensor.clone().detach().requires_grad_(True), rather than torch.tensor(sourceTensor).\n",
            "  min_ = torch.tensor(data.min(), dtype=data.dtype).unsqueeze(0)\n",
            "<ipython-input-16-49c48ecf6b20>:8: UserWarning: To copy construct from a tensor, it is recommended to use sourceTensor.clone().detach() or sourceTensor.clone().detach().requires_grad_(True), rather than torch.tensor(sourceTensor).\n",
            "  max_ = torch.tensor(data.max(), dtype=data.dtype).unsqueeze(0)\n",
            "<ipython-input-16-49c48ecf6b20>:9: UserWarning: To copy construct from a tensor, it is recommended to use sourceTensor.clone().detach() or sourceTensor.clone().detach().requires_grad_(True), rather than torch.tensor(sourceTensor).\n",
            "  var = torch.tensor(data.var(), dtype=data.dtype).unsqueeze(0)\n",
            "<ipython-input-16-49c48ecf6b20>:10: UserWarning: To copy construct from a tensor, it is recommended to use sourceTensor.clone().detach() or sourceTensor.clone().detach().requires_grad_(True), rather than torch.tensor(sourceTensor).\n",
            "  std = torch.tensor(data.std(), dtype=data.dtype).unsqueeze(0)\n",
            "100%|██████████| 76714/76714 [00:55<00:00, 1391.77it/s]\n"
          ]
        }
      ],
      "source": [
        "for key, val in tqdm(track_idx2embeds.items()):\n",
        "  emb = torch.cat((val.to(\"cpu:0\"), make_more_emb(embeds.clone()).unsqueeze(0)), dim=0)\n",
        "  # track_idx2embeds[key] = None\n",
        "  track_idx2embeds[key] = emb.to('cuda')"
      ],
      "id": "lIf-V-fSRqn3"
    },
    {
      "cell_type": "code",
      "execution_count": null,
      "metadata": {
        "id": "FwAB6H79lT7-"
      },
      "outputs": [],
      "source": [
        "def make_more_emb2(data):\n",
        "  # 404 - макс длина песни\n",
        "  # data = track_idx2embeds[track_idx]\n",
        "  data = data.to(\"cpu:0\")\n",
        "  data = torch.exp(data).mean(dim=1)\n",
        "  kol = torch.tensor(data.shape[0], dtype=torch.int64).unsqueeze(0)\n",
        "  min_ = torch.tensor(data.min(), dtype=data.dtype).unsqueeze(0)\n",
        "  max_ = torch.tensor(data.max(), dtype=data.dtype).unsqueeze(0)\n",
        "  var = torch.tensor(data.var(), dtype=data.dtype).unsqueeze(0)\n",
        "  std = torch.tensor(data.std(), dtype=data.dtype).unsqueeze(0)\n",
        "  new_array = torch.zeros(404, dtype=data.dtype)\n",
        "  new_array[:kol[0]] = data\n",
        "  diff = torch.diff(new_array)\n",
        "  new_array = torch.zeros(768-408, dtype=data.dtype)\n",
        "  return torch.cat((kol, min_, max_, var, std, diff, new_array))"
      ],
      "id": "FwAB6H79lT7-"
    },
    {
      "cell_type": "code",
      "execution_count": null,
      "metadata": {
        "id": "AjpLdOhplUHm",
        "colab": {
          "base_uri": "https://localhost:8080/"
        },
        "outputId": "6f0ee884-03dc-4f85-ccd2-ea16d6322cfa"
      },
      "outputs": [
        {
          "output_type": "stream",
          "name": "stderr",
          "text": [
            "  0%|          | 0/76714 [00:00<?, ?it/s]<ipython-input-18-42fe75b13068>:7: UserWarning: To copy construct from a tensor, it is recommended to use sourceTensor.clone().detach() or sourceTensor.clone().detach().requires_grad_(True), rather than torch.tensor(sourceTensor).\n",
            "  min_ = torch.tensor(data.min(), dtype=data.dtype).unsqueeze(0)\n",
            "<ipython-input-18-42fe75b13068>:8: UserWarning: To copy construct from a tensor, it is recommended to use sourceTensor.clone().detach() or sourceTensor.clone().detach().requires_grad_(True), rather than torch.tensor(sourceTensor).\n",
            "  max_ = torch.tensor(data.max(), dtype=data.dtype).unsqueeze(0)\n",
            "<ipython-input-18-42fe75b13068>:9: UserWarning: To copy construct from a tensor, it is recommended to use sourceTensor.clone().detach() or sourceTensor.clone().detach().requires_grad_(True), rather than torch.tensor(sourceTensor).\n",
            "  var = torch.tensor(data.var(), dtype=data.dtype).unsqueeze(0)\n",
            "<ipython-input-18-42fe75b13068>:10: UserWarning: To copy construct from a tensor, it is recommended to use sourceTensor.clone().detach() or sourceTensor.clone().detach().requires_grad_(True), rather than torch.tensor(sourceTensor).\n",
            "  std = torch.tensor(data.std(), dtype=data.dtype).unsqueeze(0)\n",
            "100%|██████████| 76714/76714 [01:07<00:00, 1144.51it/s]\n"
          ]
        }
      ],
      "source": [
        "for key, val in tqdm(track_idx2embeds.items()):\n",
        "  emb = torch.cat((val.to(\"cpu:0\"), make_more_emb2(embeds.clone()).unsqueeze(0)), dim=0)\n",
        "  # track_idx2embeds[key] = None\n",
        "  track_idx2embeds[key] = emb.to('cuda')"
      ],
      "id": "AjpLdOhplUHm"
    },
    {
      "cell_type": "markdown",
      "source": [
        "Создаем наследуемый класс для итерираций"
      ],
      "metadata": {
        "id": "pkWkSQ93Qp-V"
      },
      "id": "pkWkSQ93Qp-V"
    },
    {
      "cell_type": "code",
      "execution_count": null,
      "metadata": {
        "id": "RclZMh6nfuBD"
      },
      "outputs": [],
      "source": [
        "class TaggingDataset(Dataset):\n",
        "    def __init__(self, df, testing=False):\n",
        "        self.df = df\n",
        "        self.testing = testing\n",
        "\n",
        "    def __len__(self):\n",
        "        return self.df.shape[0]\n",
        "\n",
        "    def __getitem__(self, idx):\n",
        "        row = self.df.iloc[idx]\n",
        "        track_idx = row.track\n",
        "        embeds = track_idx2embeds[track_idx]\n",
        "        if self.testing:\n",
        "            return track_idx, embeds\n",
        "        tags = [int(x) for x in row.tags.split(',')]\n",
        "        target = np.zeros(NUM_TAGS)\n",
        "        target[tags] = 1\n",
        "        return track_idx, embeds, target"
      ],
      "id": "RclZMh6nfuBD"
    },
    {
      "cell_type": "code",
      "execution_count": null,
      "metadata": {
        "id": "jfV0ogXgWGe1"
      },
      "outputs": [],
      "source": [
        "train_dataset = TaggingDataset(df_train)\n",
        "test_dataset = TaggingDataset(df_test, True)"
      ],
      "id": "jfV0ogXgWGe1"
    },
    {
      "cell_type": "markdown",
      "metadata": {
        "id": "bh_4yNdvWBzb"
      },
      "source": [
        "## PCA"
      ],
      "id": "bh_4yNdvWBzb"
    },
    {
      "cell_type": "markdown",
      "source": [
        "<Итерируясь по по строкам первого объекта - мы решили взять разницу между соседними средними по строкам, что улучшело скор>"
      ],
      "metadata": {
        "id": "gPt9p7JOWBzb"
      },
      "id": "gPt9p7JOWBzb"
    },
    {
      "cell_type": "code",
      "execution_count": null,
      "metadata": {
        "id": "So8F-k-zWBzb"
      },
      "outputs": [],
      "source": [
        "track_idx, embeds, target = train_dataset[0]\n",
        "emb = embeds[:10].to(\"cpu:0\")"
      ],
      "id": "So8F-k-zWBzb"
    },
    {
      "cell_type": "code",
      "execution_count": null,
      "metadata": {
        "id": "Pv3eumNYWBzc"
      },
      "outputs": [],
      "source": [
        "def print_target(target):\n",
        "  # Получите индексы с ненулевыми значениями\n",
        "  nonzero_indices = np.nonzero(target)\n",
        "\n",
        "  # nonzero_indices - это кортеж с двумя массивами: один для индексов строк и другой для индексов столбцов\n",
        "  row_indices = nonzero_indices\n",
        "\n",
        "  # Выведите индексы с ненулевыми значениями\n",
        "  for i in range(len(row_indices)):\n",
        "      print(f\"Row: {row_indices[i]}\")"
      ],
      "id": "Pv3eumNYWBzc"
    },
    {
      "cell_type": "code",
      "execution_count": null,
      "metadata": {
        "id": "niAtHR5xWBzc"
      },
      "outputs": [],
      "source": [
        "# best ones\n",
        "mean_batch = torch.log(emb.abs() + 1e-6).std(dim=1).to('cpu')\n",
        "mean_batch = torch.sqrt(torch.mean(emb**2, dim=1)).to('cpu')\n",
        "\n",
        "mean_batch = np.correlate(emb[0].cpu().numpy(), emb[0].cpu().numpy(), mode='full')\n",
        "data_array = data\n",
        "\n"
      ],
      "id": "niAtHR5xWBzc"
    },
    {
      "cell_type": "code",
      "execution_count": null,
      "metadata": {
        "id": "z4TVg70VWBzc"
      },
      "outputs": [],
      "source": [
        "def print_subplots(emb):\n",
        "  # Your data as a tensor (assuming 'data' is your tensor)\n",
        "  mean_batch = torch.sqrt(torch.mean(emb**2, dim=1)).to('cpu')\n",
        "  data = mean_batch\n",
        "  print(data.size())\n",
        "\n",
        "  # Convert the tensor to a NumPy array\n",
        "  data_array = data.numpy()\n",
        "\n",
        "  # Create a list of indices for x-axis\n",
        "  indices = list(range(len(data_array)))\n",
        "\n",
        "  # Create a scatter plot\n",
        "  plt.scatter(indices, data_array, marker='o', s=10)  # 'o' represents the marker style, and 's' sets the marker size\n",
        "\n",
        "  # Set labels and title\n",
        "  plt.xlabel('Index')\n",
        "  plt.ylabel('Value')\n",
        "  plt.title('Distribution of Points')\n",
        "\n",
        "  # Show the plot\n",
        "  plt.show()"
      ],
      "id": "z4TVg70VWBzc"
    },
    {
      "cell_type": "code",
      "execution_count": null,
      "metadata": {
        "colab": {
          "base_uri": "https://localhost:8080/",
          "height": 1000
        },
        "outputId": "0f28cd53-ae89-46c1-fb7b-68f6e5442f1c",
        "id": "c2_CKh2iWBzc"
      },
      "outputs": [
        {
          "name": "stdout",
          "output_type": "stream",
          "text": [
            "torch.Size([74])\n"
          ]
        },
        {
          "data": {
            "image/png": "[encoded data removed]",
            "text/plain": [
              "<Figure size 640x480 with 1 Axes>"
            ]
          },
          "metadata": {},
          "output_type": "display_data"
        },
        {
          "name": "stdout",
          "output_type": "stream",
          "text": [
            "Row: [ 5  6  9 26 32 55 96]\n",
            "torch.Size([59])\n"
          ]
        },
        {
          "data": {
            "image/png": "[encoded data removed]",
            "text/plain": [
              "<Figure size 640x480 with 1 Axes>"
            ]
          },
          "metadata": {},
          "output_type": "display_data"
        },
        {
          "name": "stdout",
          "output_type": "stream",
          "text": [
            "Row: [  6   9  28  39 145 155]\n",
            "torch.Size([74])\n"
          ]
        },
        {
          "data": {
            "image/png": "[encoded data removed]",
            "text/plain": [
              "<Figure size 640x480 with 1 Axes>"
            ]
          },
          "metadata": {},
          "output_type": "display_data"
        },
        {
          "name": "stdout",
          "output_type": "stream",
          "text": [
            "Row: [  0   6  28  40 116 168]\n",
            "torch.Size([54])\n"
          ]
        },
        {
          "data": {
            "image/png": "[encoded data removed]",
            "text/plain": [
              "<Figure size 640x480 with 1 Axes>"
            ]
          },
          "metadata": {},
          "output_type": "display_data"
        },
        {
          "name": "stdout",
          "output_type": "stream",
          "text": [
            "Row: [ 28 186]\n",
            "torch.Size([27])\n"
          ]
        },
        {
          "data": {
            "image/png": "[encoded data removed]",
            "text/plain": [
              "<Figure size 640x480 with 1 Axes>"
            ]
          },
          "metadata": {},
          "output_type": "display_data"
        },
        {
          "name": "stdout",
          "output_type": "stream",
          "text": [
            "Row: [  6  23 177]\n",
            "torch.Size([65])\n"
          ]
        },
        {
          "data": {
            "image/png": "[encoded data removed]",
            "text/plain": [
              "<Figure size 640x480 with 1 Axes>"
            ]
          },
          "metadata": {},
          "output_type": "display_data"
        },
        {
          "name": "stdout",
          "output_type": "stream",
          "text": [
            "Row: [ 43 183 252]\n",
            "torch.Size([36])\n"
          ]
        },
        {
          "data": {
            "image/png": "[encoded data removed]",
            "text/plain": [
              "<Figure size 640x480 with 1 Axes>"
            ]
          },
          "metadata": {},
          "output_type": "display_data"
        },
        {
          "name": "stdout",
          "output_type": "stream",
          "text": [
            "Row: [ 0 10 48]\n",
            "torch.Size([52])\n"
          ]
        },
        {
          "data": {
            "image/png": "[encoded data removed]",
            "text/plain": [
              "<Figure size 640x480 with 1 Axes>"
            ]
          },
          "metadata": {},
          "output_type": "display_data"
        },
        {
          "name": "stdout",
          "output_type": "stream",
          "text": [
            "Row: [ 35 112 191]\n",
            "torch.Size([49])\n"
          ]
        },
        {
          "data": {
            "image/png": "[encoded data removed]",
            "text/plain": [
              "<Figure size 640x480 with 1 Axes>"
            ]
          },
          "metadata": {},
          "output_type": "display_data"
        },
        {
          "name": "stdout",
          "output_type": "stream",
          "text": [
            "Row: [ 0 16]\n",
            "torch.Size([61])\n"
          ]
        },
        {
          "data": {
            "image/png": "[encoded data removed]",
            "text/plain": [
              "<Figure size 640x480 with 1 Axes>"
            ]
          },
          "metadata": {},
          "output_type": "display_data"
        },
        {
          "name": "stdout",
          "output_type": "stream",
          "text": [
            "Row: [  6   9  32  85 122]\n"
          ]
        }
      ],
      "source": [
        "for i in range(10):\n",
        "  track_idx, embeds, target = train_dataset[i]\n",
        "  print_subplots(embeds)\n",
        "  print_target(target)"
      ],
      "id": "c2_CKh2iWBzc"
    },
    {
      "cell_type": "markdown",
      "metadata": {
        "id": "9QIuCfRwfRRT"
      },
      "source": [
        "## Пример обучения FC моделей по методу K-fold"
      ],
      "id": "9QIuCfRwfRRT"
    },
    {
      "cell_type": "code",
      "execution_count": null,
      "metadata": {
        "id": "26c442f3"
      },
      "outputs": [],
      "source": [
        "def Block_brick(channels_in, channels_out):\n",
        "    return nn.Sequential(\n",
        "        nn.Linear(channels_in, channels_out),\n",
        "        nn.LeakyReLU(),\n",
        "        nn.BatchNorm1d(channels_out),\n",
        "    )\n",
        "\n",
        "def BlockWBN_brick(channels_in, channels_out):\n",
        "    return nn.Sequential(\n",
        "        nn.Linear(channels_in, channels_out),\n",
        "        nn.LeakyReLU()\n",
        "    )\n",
        "\n",
        "\n",
        "class let_Net_gun(nn.Module):\n",
        "    def __init__(\n",
        "        self,\n",
        "        num_classes = NUM_TAGS,\n",
        "        input_dim = 768,\n",
        "        hidden_dim = 512,\n",
        "        hidden = 512\n",
        "    ):\n",
        "        super().__init__()\n",
        "        self.num_classes = num_classes\n",
        "        self.bn = nn.LayerNorm(hidden)\n",
        "        self.projector =  nn.Linear(input_dim, hidden_dim)\n",
        "        self.lin_1 = Block_brick(hidden, 512)\n",
        "        self.lin_2 = Block_brick(512, 1024)\n",
        "        self.lin_3 = BlockWBN_brick(1024, 1200)\n",
        "        self.lin_4 = Block_brick(1200, 1580)\n",
        "        self.lin_5 = BlockWBN_brick(1580, hidden_dim)\n",
        "        self.fc = nn.Linear(hidden_dim, num_classes)\n",
        "        self.relu = nn.LeakyReLU()\n",
        "        self.drop = nn.Dropout(0.3)\n",
        "\n",
        "\n",
        "    def forward(self, embeds):\n",
        "        # 64,X,512\n",
        "        x = [self.relu(self.projector(x)) for x in embeds] # 64,X,512\n",
        "\n",
        "        x_1 = [v.mean(0).unsqueeze(0) for v in x] # 64,1,512  --> v.size = X,512 --> we apply mean by columns (512) and add dim (1,512)\n",
        "        x_2 = [torch.exp(v).mean(dim=0).unsqueeze(0) for v in x] # 64,1,512\n",
        "\n",
        "        x_r = [torch.cat((x_1[i], x_2[i]), 0) for i in range(len(x))] # 64,2,512\n",
        "        x = torch.stack(x_r, dim=0) # 64,2,512\n",
        "        x = x.mean(dim=1) # 64,512\n",
        "        x = self.bn(x) # 64,512\n",
        "\n",
        "        x = self.lin_1(x)\n",
        "        x = self.lin_2(x)\n",
        "        x = self.drop(x)\n",
        "        x = self.lin_3(x)\n",
        "        x = self.lin_4(x)\n",
        "        x = self.drop(x)\n",
        "        x = self.lin_5(x)\n",
        "        outs = self.fc(x)\n",
        "        return outs"
      ],
      "id": "26c442f3"
    },
    {
      "cell_type": "code",
      "execution_count": null,
      "metadata": {
        "id": "69ac72ac"
      },
      "outputs": [],
      "source": [
        "def train_epoch(model, loader, criterion, optimizer):\n",
        "    model.train()\n",
        "    running_loss = None\n",
        "    alpha = 0.8\n",
        "    for iteration, data in enumerate(loader):\n",
        "        optimizer.zero_grad()\n",
        "        track_idxs, embeds, target = data\n",
        "        embeds = [x.to(CUDA_DEV) for x in embeds]\n",
        "        target = target.to(CUDA_DEV)\n",
        "        pred_logits = model(embeds)\n",
        "        pred_probs = torch.sigmoid(pred_logits)\n",
        "        ce_loss = criterion(pred_logits, target)\n",
        "        ce_loss.backward()\n",
        "        optimizer.step()\n",
        "\n",
        "        if running_loss is None:\n",
        "            running_loss = ce_loss.item()\n",
        "        else:\n",
        "            running_loss = alpha * ce_loss.item() + (1 - alpha) * ce_loss.item()\n",
        "        if iteration % 100 == 0:\n",
        "            print('   {} batch {} loss {}'.format(\n",
        "                datetime.now(), iteration + 1, running_loss\n",
        "            ))"
      ],
      "id": "69ac72ac"
    },
    {
      "cell_type": "code",
      "execution_count": null,
      "metadata": {
        "id": "996cacae"
      },
      "outputs": [],
      "source": [
        "def collate_fn(b):\n",
        "    track_idxs = torch.from_numpy(np.vstack([x[0] for x in b]))\n",
        "    embeds = [x[1] for x in b]\n",
        "    targets = np.vstack([x[2] for x in b])\n",
        "    targets = torch.from_numpy(targets)\n",
        "    return track_idxs, embeds, targets\n",
        "\n",
        "def collate_fn_test(b):\n",
        "    track_idxs = torch.from_numpy(np.vstack([x[0] for x in b]))\n",
        "    embeds = [x[1] for x in b]\n",
        "    return track_idxs, embeds"
      ],
      "id": "996cacae"
    },
    {
      "cell_type": "code",
      "source": [
        "kf = KFold(n_splits=5, shuffle=True, random_state=42)\n",
        "\n",
        "for fold, (train_idx, test_idx) in enumerate(kf.split(df_train)):\n",
        "    seed_everything(seed=fold)\n",
        "    print(f'Fold {fold + 1}, {fold+1}')\n",
        "\n",
        "    # Разделите данные на обучающий и тестовый наборы\n",
        "    train_data = df_train.iloc[train_idx]\n",
        "\n",
        "    train_dataset1 = TaggingDataset(df_train)\n",
        "    train_dataloader1 = DataLoader(train_dataset1, batch_size=64, shuffle=True, collate_fn=collate_fn)\n",
        "    model1 = let_Net_gun().to('cuda')\n",
        "    criterion = nn.BCEWithLogitsLoss().to('cuda')\n",
        "    optimizer = torch.optim.Adam(model1.parameters(), lr=1e-4)\n",
        "    epochs = 30\n",
        "\n",
        "    for epoch in tqdm(range(epochs)):\n",
        "        train_epoch(model1, train_dataloader1, criterion, optimizer)\n",
        "\n",
        "    # Сохранение модели в файл\n",
        "    torch.save(model1, link+f'model/{fold+1}__my_model1_{mod}.pth')\n"
      ],
      "metadata": {
        "id": "66fxOegU2G8t"
      },
      "id": "66fxOegU2G8t",
      "execution_count": null,
      "outputs": []
    },
    {
      "cell_type": "code",
      "source": [
        "# выгрузка моделей\n",
        "loaded_model1 = torch.load(f'/content/drive/MyDrive/Yandex_cup/model/1__my_model1_1.pth')\n",
        "loaded_model2 = torch.load(f'/content/drive/MyDrive/Yandex_cup/model/2__my_model1_2.pth')\n",
        "loaded_model3 = torch.load(f'/content/drive/MyDrive/Yandex_cup/model/3__my_model1_3.pth')\n",
        "loaded_model4 = torch.load(f'/content/drive/MyDrive/Yandex_cup/model/4__my_model1_4.pth')\n",
        "loaded_model5 = torch.load(f'/content/drive/MyDrive/Yandex_cup/model/5__my_model1_5.pth')"
      ],
      "metadata": {
        "id": "E8nUUPqd3UVm"
      },
      "id": "E8nUUPqd3UVm",
      "execution_count": null,
      "outputs": []
    },
    {
      "cell_type": "markdown",
      "source": [
        "# The final solution"
      ],
      "metadata": {
        "id": "b92DIA2MrXnN"
      },
      "id": "b92DIA2MrXnN"
    },
    {
      "cell_type": "markdown",
      "source": [
        "В решении использовался блендинг из таких моделей:\n",
        "- FC (6 hidden layers) **[best]**\n",
        "- CNN (5 convolution + 3 hidden layers)\n",
        "- LSTM (5 hidden layers)\n",
        "- BIG FC (8 hidden layers)\n",
        "- FC with k-fold learning metod"
      ],
      "metadata": {
        "id": "A_VXi5NUXAfE"
      },
      "id": "A_VXi5NUXAfE"
    },
    {
      "cell_type": "markdown",
      "source": [
        "### Regular FC"
      ],
      "metadata": {
        "id": "i1gzz6Z9Ssrt"
      },
      "id": "i1gzz6Z9Ssrt"
    },
    {
      "cell_type": "code",
      "source": [
        "def Block_brick(channels_in, channels_out):\n",
        "    return nn.Sequential(\n",
        "        nn.Linear(channels_in, channels_out),\n",
        "        nn.LeakyReLU(),\n",
        "        nn.BatchNorm1d(channels_out),\n",
        "    )\n",
        "\n",
        "def BlockWBN_brick(channels_in, channels_out):\n",
        "    return nn.Sequential(\n",
        "        nn.Linear(channels_in, channels_out),\n",
        "        nn.LeakyReLU()\n",
        "    )\n",
        "\n",
        "\n",
        "class let_Net_gun(nn.Module):\n",
        "    def __init__(\n",
        "        self,\n",
        "        num_classes = NUM_TAGS,\n",
        "        input_dim = 768,\n",
        "        hidden_dim = 512,\n",
        "        hidden = 512\n",
        "    ):\n",
        "        super().__init__()\n",
        "        self.num_classes = num_classes\n",
        "        self.bn = nn.LayerNorm(hidden)\n",
        "        self.projector =  nn.Linear(input_dim, hidden_dim)\n",
        "        self.lin_1 = Block_brick(hidden, 512)\n",
        "        self.lin_2 = Block_brick(512, 1024)\n",
        "        self.lin_3 = BlockWBN_brick(1024, 1200)\n",
        "        self.lin_4 = Block_brick(1200, 1580)\n",
        "        self.lin_5 = BlockWBN_brick(1580, hidden_dim)\n",
        "        self.fc = nn.Linear(hidden_dim, num_classes)\n",
        "        self.relu = nn.LeakyReLU()\n",
        "        self.drop = nn.Dropout(0.3)\n",
        "\n",
        "\n",
        "    def forward(self, embeds):\n",
        "        # 64,X,512\n",
        "        x = [self.relu(self.projector(x)) for x in embeds] # 64,X,512\n",
        "\n",
        "        x_1 = [v.mean(0).unsqueeze(0) for v in x] # 64,1,512  --> v.size = X,512 --> we apply mean by columns (512) and add dim (1,512)\n",
        "        x_2 = [torch.exp(v).mean(dim=0).unsqueeze(0) for v in x] # 64,1,512\n",
        "\n",
        "        x_r = [torch.cat((x_1[i], x_2[i]), 0) for i in range(len(x))] # 64,2,512\n",
        "        x = torch.stack(x_r, dim=0) # 64,2,512\n",
        "        x = x.mean(dim=1) # 64,512\n",
        "        x = self.bn(x) # 64,512\n",
        "\n",
        "        x = self.lin_1(x)\n",
        "        x = self.lin_2(x)\n",
        "        x = self.drop(x)\n",
        "        x = self.lin_3(x)\n",
        "        x = self.lin_4(x)\n",
        "        x = self.drop(x)\n",
        "        x = self.lin_5(x)\n",
        "        outs = self.fc(x)\n",
        "        return outs"
      ],
      "metadata": {
        "id": "Q-biwvE__szN"
      },
      "id": "Q-biwvE__szN",
      "execution_count": null,
      "outputs": []
    },
    {
      "cell_type": "markdown",
      "source": [
        "### CNN model"
      ],
      "metadata": {
        "id": "BMiVKRXcTR_H"
      },
      "id": "BMiVKRXcTR_H"
    },
    {
      "cell_type": "code",
      "execution_count": null,
      "metadata": {
        "id": "sK6eWxRagyOU"
      },
      "outputs": [],
      "source": [
        "class let_Cnn_gun(nn.Module):\n",
        "    def __init__(self, num_classes=NUM_TAGS, input_dim=768, hidden_dim=768):\n",
        "        super().__init__()\n",
        "        self.conv1_gun = nn.Conv1d(in_channels=512, out_channels=768, kernel_size=3, stride=1, padding=1)\n",
        "        self.conv2_gun = nn.Conv1d(in_channels=768, out_channels=512, kernel_size=3, stride=1, padding=1)\n",
        "        self.conv3_gun = nn.Conv1d(512, 1200, kernel_size=3, stride=1, padding=1)\n",
        "        self.conv4_gun = nn.Conv1d(1200, 512, kernel_size=3, stride=1, padding=1)\n",
        "        self.conv5_gun = nn.Conv1d(512, 512, kernel_size=3, stride=1, padding=1)\n",
        "\n",
        "        self.fc1 = nn.Linear(1024, hidden_dim)\n",
        "        self.fc2 = nn.Linear(hidden_dim, num_classes)\n",
        "        self.relu = nn.ReLU()\n",
        "        self.pool = nn.MaxPool1d(kernel_size=2, stride=2, padding=0)\n",
        "        self.projector =  nn.Linear(input_dim, 512)\n",
        "        self.bn = nn.LayerNorm(512)\n",
        "        self.skip = nn.Conv1d(768, 512, kernel_size=3, stride=1, padding=1)\n",
        "\n",
        "    def forward(self, embeds):\n",
        "        x = [self.relu(self.projector(x)) for x in embeds]  # 64,X,512\n",
        "\n",
        "        x_1 = [v.mean(0).unsqueeze(0) for v in x]  # 64,1,512\n",
        "        x_2 = [torch.exp(v).mean(dim=0).unsqueeze(0) for v in x]  # 64,1,512\n",
        "\n",
        "        x_r = [torch.cat((x_1[i], x_2[i]), 0) for i in range(len(x))]  # 64,2,512\n",
        "        x = torch.stack(x_r, dim=0)  # 64,2,512\n",
        "        x = self.bn(x)  # 64,2,512\n",
        "        x = x.permute(0, 2, 1)\n",
        "\n",
        "        x = self.relu(self.conv1_gun(x))\n",
        "        skip1 = self.skip(x)\n",
        "        x = self.pool(x)\n",
        "        x = self.relu(self.conv2_gun(x))\n",
        "        x = x + skip1\n",
        "        skip2 = x\n",
        "        x = self.relu(self.conv3_gun(x))\n",
        "        x = self.relu(self.conv4_gun(x))\n",
        "        x = skip2 + x\n",
        "        x = self.relu(self.conv5_gun(x))\n",
        "        x = x.view(x.size(0), -1)\n",
        "        x = self.relu(self.fc1(x))\n",
        "        x = self.fc2(x)\n",
        "        return x"
      ],
      "id": "sK6eWxRagyOU"
    },
    {
      "cell_type": "markdown",
      "source": [
        "### LSTM model"
      ],
      "metadata": {
        "id": "Orwulv9cTbrX"
      },
      "id": "Orwulv9cTbrX"
    },
    {
      "cell_type": "code",
      "execution_count": null,
      "metadata": {
        "id": "_Tb0u5_yrTJS"
      },
      "outputs": [],
      "source": [
        "def Block_brick(channels_in, channels_out):\n",
        "    return nn.Sequential(\n",
        "        nn.Linear(channels_in, channels_out),\n",
        "        nn.LeakyReLU(),\n",
        "        nn.BatchNorm1d(channels_out),\n",
        "    )\n",
        "\n",
        "def BlockWBN_brick(channels_in, channels_out):\n",
        "    return nn.Sequential(\n",
        "        nn.Linear(channels_in, channels_out),\n",
        "        nn.LeakyReLU()\n",
        "    )\n",
        "\n",
        "class log_LSTM_gun(nn.Module):\n",
        "    def __init__(self, input_size=768, hidden_size=768, num_classes=256):\n",
        "        super().__init__()\n",
        "        self.num_classes = num_classes\n",
        "        self.lin_1 = Block_brick(512, 800)\n",
        "        self.lin_2 = Block_brick(800, 1000)\n",
        "        self.lin_3 = BlockWBN_brick(1000, 1200)\n",
        "        self.lin_4 = Block_brick(1200, 1315)\n",
        "        self.lin_5 = BlockWBN_brick(1315, 768)\n",
        "        self.fc = nn.Linear(768, num_classes)\n",
        "        self.drop = nn.Dropout(0.3)\n",
        "\n",
        "        self.relu = nn.LeakyReLU()\n",
        "        self.projector =  nn.Linear(input_size, 512)\n",
        "        self.bnorm = nn.LayerNorm(512)\n",
        "        self.lstms = nn.ModuleList([nn.LSTM(512, 512, batch_first=True, bidirectional=True) for _ in range(2)])\n",
        "\n",
        "    def forward(self, embeds):\n",
        "        # 64,X,768\n",
        "        x = [self.relu(self.projector(x)) for x in embeds] # 64,X,512\n",
        "\n",
        "        x_1 = [v.mean(0).unsqueeze(0) for v in x] # 64,1,512  --> v.size = X,512 --> we apply mean by columns (512) and add dim (1,512)\n",
        "        x_2 = [v.std(dim=0).unsqueeze(0) for v in x]  # 64,1,512 --> v.size = X,512 --> we apply std by columns (512) and add dim (1,512)\n",
        "\n",
        "        x_r = [torch.cat((x_1[i], x_2[i]), 0) for i in range(len(x))] # 64,2,512\n",
        "        x = torch.stack(x_r, dim=0) # 64,2,512\n",
        "        x = self.bnorm(x)  # 64,2,512\n",
        "\n",
        "        k = 0\n",
        "        for lstm in self.lstms:\n",
        "            x, (hn, cn) = lstm(x)\n",
        "            if k == 1:\n",
        "              x = hn[-1]\n",
        "            else:\n",
        "              x = hn[-1].unsqueeze(1)\n",
        "            k += 1\n",
        "        # x.size() = 64,512\n",
        "        x = self.lin_1(x)\n",
        "        x = self.lin_2(x)\n",
        "        x = self.drop(x)\n",
        "        x = self.lin_3(x)\n",
        "        x = self.lin_4(x)\n",
        "        x = self.drop(x)\n",
        "        x = self.lin_5(x)\n",
        "        outs = self.fc(x)\n",
        "        return outs"
      ],
      "id": "_Tb0u5_yrTJS"
    },
    {
      "cell_type": "markdown",
      "source": [
        "### Big FC"
      ],
      "metadata": {
        "id": "tT5y4SlETfIU"
      },
      "id": "tT5y4SlETfIU"
    },
    {
      "cell_type": "code",
      "execution_count": null,
      "metadata": {
        "id": "3RcSFWEyxXqg"
      },
      "outputs": [],
      "source": [
        "def B(channels_in, channels_out):\n",
        "    return nn.Sequential(\n",
        "        nn.Linear(channels_in, channels_out),\n",
        "        nn.LeakyReLU(),\n",
        "        nn.BatchNorm1d(channels_out),\n",
        "    )\n",
        "\n",
        "def BWBN(channels_in, channels_out):\n",
        "    return nn.Sequential(\n",
        "        nn.Linear(channels_in, channels_out),\n",
        "        nn.LeakyReLU()\n",
        "    )\n",
        "\n",
        "\n",
        "class big_Net(nn.Module):\n",
        "    def __init__(\n",
        "        self,\n",
        "        num_classes = NUM_TAGS,\n",
        "        input_dim = 768,\n",
        "        hidden_dim = 256,\n",
        "        hidden = 256\n",
        "    ):\n",
        "        super().__init__()\n",
        "        self.num_classes = num_classes\n",
        "        self.bn = nn.LayerNorm(hidden)\n",
        "        self.projector =  nn.Linear(input_dim, hidden_dim)\n",
        "        self.lin_1 = B(hidden, 512)\n",
        "        self.lin_2 = B(512, 1024)\n",
        "        self.lin_3 = BWBN(1024, 1200)\n",
        "        self.lin_4 = B(1200, 1580)\n",
        "        self.lin_5 = BWBN(1580, hidden_dim)\n",
        "        self.lin_6 = B(hidden_dim, hidden_dim)\n",
        "        self.lin_7 = BWBN(hidden_dim, hidden_dim)\n",
        "        self.fc = nn.Linear(hidden_dim, num_classes)\n",
        "        self.relu = nn.LeakyReLU()\n",
        "        self.drop = nn.Dropout(0.3)\n",
        "\n",
        "\n",
        "    def forward(self, embeds):\n",
        "        # 64,X,512\n",
        "        x = [self.relu(self.projector(x)) for x in embeds] # 64,X,512\n",
        "\n",
        "        x_1 = [v.mean(0).unsqueeze(0) for v in x] # 64,1,512  --> v.size = X,512 --> we apply mean by columns (512) and add dim (1,512)\n",
        "        x_2 = [torch.exp(v).mean(dim=0).unsqueeze(0) for v in x] # 64,1,512\n",
        "\n",
        "        x_r = [torch.cat((x_1[i], x_2[i]), 0) for i in range(len(x))] # 64,2,512\n",
        "        x = torch.stack(x_r, dim=0) # 64,2,512\n",
        "        x = x.mean(dim=1) # 64,512\n",
        "        x = self.bn(x) # 64,512\n",
        "\n",
        "        x = self.lin_1(x)\n",
        "        x = self.lin_2(x)\n",
        "        x = self.drop(x)\n",
        "        x = self.lin_3(x)\n",
        "        x = self.lin_4(x)\n",
        "        x = self.drop(x)\n",
        "        x = self.lin_5(x)\n",
        "        x = self.lin_6(x)\n",
        "        x = self.lin_7(x)\n",
        "        outs = self.fc(x)\n",
        "        return outs"
      ],
      "id": "3RcSFWEyxXqg"
    },
    {
      "cell_type": "markdown",
      "source": [
        "### Unloading models"
      ],
      "metadata": {
        "id": "79VygPhBTKrD"
      },
      "id": "79VygPhBTKrD"
    },
    {
      "cell_type": "code",
      "source": [
        "k_fold_model1 = torch.load(f'/content/drive/MyDrive/Yandex_cup/model/1__my_model1_29.pth')\n",
        "k_fold_model2 = torch.load(f'/content/drive/MyDrive/Yandex_cup/model/2__my_model1_25.pth')\n",
        "k_fold_model3 = torch.load(f'/content/drive/MyDrive/Yandex_cup/model/3__my_model1_2.pth')\n",
        "k_fold_model4 = torch.load(f'/content/drive/MyDrive/Yandex_cup/model/4__my_model1_77.pth')\n",
        "k_fold_model5 = torch.load(f'/content/drive/MyDrive/Yandex_cup/model/5__my_model1_86.pth')"
      ],
      "metadata": {
        "id": "JEruoV-cTJ7u"
      },
      "id": "JEruoV-cTJ7u",
      "execution_count": null,
      "outputs": []
    },
    {
      "cell_type": "code",
      "source": [
        "first_model1 = torch.load(f'/content/drive/MyDrive/Yandex_cup/model/2023-11-12 16_08_14_my_model1.pth')\n",
        "first_model2 = torch.load(f'/content/drive/MyDrive/Yandex_cup/model/2023-11-12 16_08_14_my_model2.pth')\n",
        "first_model3 = torch.load(f'/content/drive/MyDrive/Yandex_cup/model/2023-11-12 16_08_14_my_model3.pth')\n",
        "first_model4 = torch.load(f'/content/drive/MyDrive/Yandex_cup/model/2023-11-12 16_08_14_my_model4.pth')"
      ],
      "metadata": {
        "id": "-suunKGgtctz"
      },
      "id": "-suunKGgtctz",
      "execution_count": null,
      "outputs": []
    },
    {
      "cell_type": "code",
      "source": [
        "second_model1 = torch.load(f'/content/drive/MyDrive/Yandex_cup/model/2023-11-12 14_16_16_my_model1.pth')\n",
        "second_model2 = torch.load(f'/content/drive/MyDrive/Yandex_cup/model/2023-11-12 14_16_16_my_model2.pth')\n",
        "second_model3 = torch.load(f'/content/drive/MyDrive/Yandex_cup/model/2023-11-12 14_16_16_my_model3.pth')\n",
        "second_model4 = torch.load(f'/content/drive/MyDrive/Yandex_cup/model/2023-11-12 14_16_16_my_model4.pth')"
      ],
      "metadata": {
        "id": "5RjNz7KRsNAZ"
      },
      "id": "5RjNz7KRsNAZ",
      "execution_count": null,
      "outputs": []
    },
    {
      "cell_type": "markdown",
      "source": [
        "### Predicting"
      ],
      "metadata": {
        "id": "iAzvCpecTims"
      },
      "id": "iAzvCpecTims"
    },
    {
      "cell_type": "code",
      "execution_count": null,
      "metadata": {
        "id": "phP3AEUUzlsv"
      },
      "outputs": [],
      "source": [
        "def collate_fn(b):\n",
        "    track_idxs = torch.from_numpy(np.vstack([x[0] for x in b]))\n",
        "    embeds = [x[1] for x in b]\n",
        "    targets = np.vstack([x[2] for x in b])\n",
        "    targets = torch.from_numpy(targets)\n",
        "    return track_idxs, embeds, targets\n",
        "\n",
        "def collate_fn_test(b):\n",
        "    track_idxs = torch.from_numpy(np.vstack([x[0] for x in b]))\n",
        "    embeds = [x[1] for x in b]\n",
        "    return track_idxs, embeds"
      ],
      "id": "phP3AEUUzlsv"
    },
    {
      "cell_type": "code",
      "execution_count": null,
      "metadata": {
        "id": "u3BcQSktzls4"
      },
      "outputs": [],
      "source": [
        "test_dataset = TaggingDataset(df_test, True)\n",
        "test_dataloader = DataLoader(test_dataset, batch_size=64, shuffle=False, collate_fn=collate_fn_test)"
      ],
      "id": "u3BcQSktzls4"
    },
    {
      "cell_type": "code",
      "source": [
        "def predict(models1, models2, k_fold, loader):\n",
        "    for model_x in k_fold:\n",
        "      model_x.eval()\n",
        "    model1, model2, model3, model4, model5 = k_fold\n",
        "    model1_1, model2_1, model3_1, model4_1 = models1\n",
        "    model1_2, model2_2, model3_2, model4_2 = models2\n",
        "    track_idxs = []\n",
        "    predictions = []\n",
        "    with torch.no_grad():\n",
        "        for data in loader:\n",
        "            track_idx, embeds = data\n",
        "            embeds = [x.to(CUDA_DEV) for x in embeds]\n",
        "\n",
        "            # bagging with weights (depends on impact of model)\n",
        "            k1, k2, k3, k4 = 0.35, 0.15, 0.15, 0.25\n",
        "            pred_logits_1 = (k1 * model1_1(embeds) + k2 * model2_1(embeds) + k3 * model3_1(embeds) + k4 * model4_1(embeds)) / 4\n",
        "            pred_logits_2 = (k1 * model1_2(embeds) + k2 * model2_2(embeds) + k3 * model3_2(embeds) + k4 * model4_2(embeds)) / 4\n",
        "            pred_logits_k_fold = (model1(embeds) + model2(embeds) + model3(embeds) + model4(embeds) + model5(embeds)) / 5\n",
        "            pred_logits = (1 * pred_logits_1 + 0.8 * pred_logits_2 + 0.8 * pred_logits_k_fold) / 3\n",
        "\n",
        "            pred_probs = torch.sigmoid(pred_logits)\n",
        "            predictions.append(pred_probs.cpu().numpy())\n",
        "            track_idxs.append(track_idx.numpy())\n",
        "    predictions = np.vstack(predictions)\n",
        "    track_idxs = np.vstack(track_idxs).ravel()\n",
        "    return track_idxs, predictions"
      ],
      "metadata": {
        "id": "XW2Tavdrt_y6"
      },
      "id": "XW2Tavdrt_y6",
      "execution_count": null,
      "outputs": []
    },
    {
      "cell_type": "code",
      "execution_count": null,
      "metadata": {
        "id": "UdRHskpWzls5"
      },
      "outputs": [],
      "source": [
        "models1 = [first_model1, first_model2, first_model3, first_model4]\n",
        "models2 = [second_model1, second_model2, second_model3, second_model4]\n",
        "k_fold = [k_fold_model1, k_fold_model2, k_fold_model3, k_fold_model4, k_fold_model5]\n",
        "track_idxs, predictions = predict(models1, models2, k_fold, test_dataloader)"
      ],
      "id": "UdRHskpWzls5"
    },
    {
      "cell_type": "code",
      "source": [
        "track_idxs, predictions = predict(models1, models2, k_fold, test_dataloader)"
      ],
      "metadata": {
        "id": "QncDGoCm6Nhl"
      },
      "id": "QncDGoCm6Nhl",
      "execution_count": null,
      "outputs": []
    },
    {
      "cell_type": "code",
      "execution_count": null,
      "metadata": {
        "id": "vFv3Qh3Ozls5"
      },
      "outputs": [],
      "source": [
        "predictions_df = pd.DataFrame([\n",
        "    {'track': track, 'prediction': ','.join([str(p) for p in probs])}\n",
        "    for track, probs in zip(track_idxs, predictions)\n",
        "])"
      ],
      "id": "vFv3Qh3Ozls5"
    },
    {
      "cell_type": "code",
      "execution_count": null,
      "metadata": {
        "id": "4JwStF-jzls5"
      },
      "outputs": [],
      "source": [
        "predictions_df.to_csv(link+ 'model/prediction.csv', index=False)"
      ],
      "id": "4JwStF-jzls5"
    }
  ],
  "metadata": {
    "accelerator": "GPU",
    "colab": {
      "collapsed_sections": [
        "5fI0Ggb-Ve4Y",
        "uEUVRjEaVXuM",
        "bh_4yNdvWBzb",
        "9QIuCfRwfRRT",
        "i1gzz6Z9Ssrt",
        "BMiVKRXcTR_H",
        "Orwulv9cTbrX",
        "tT5y4SlETfIU",
        "79VygPhBTKrD",
        "iAzvCpecTims"
      ],
      "provenance": []
    },
    "kernelspec": {
      "display_name": "Python 3",
      "name": "python3"
    },
    "language_info": {
      "codemirror_mode": {
        "name": "ipython",
        "version": 3
      },
      "file_extension": ".py",
      "mimetype": "text/x-python",
      "name": "python",
      "nbconvert_exporter": "python",
      "pygments_lexer": "ipython3",
      "version": "3.10.9"
    }
  },
  "nbformat": 4,
  "nbformat_minor": 5
}
